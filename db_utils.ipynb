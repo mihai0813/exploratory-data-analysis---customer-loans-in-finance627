{
 "cells": [
  {
   "cell_type": "code",
   "execution_count": null,
   "metadata": {},
   "outputs": [],
   "source": [
    "!pip install pyyaml\n",
    "!pip install psycopg2\n",
    "!pip install sqlalchemy"
   ]
  },
  {
   "cell_type": "markdown",
   "metadata": {},
   "source": [
    "Installing required packages."
   ]
  },
  {
   "cell_type": "code",
   "execution_count": null,
   "metadata": {},
   "outputs": [],
   "source": [
    "import yaml\n",
    "import psycopg2\n",
    "import pandas as pd\n",
    "from sqlalchemy import create_engine\n",
    "import matplotlib.pyplot as plt\n",
    "import numpy as np"
   ]
  },
  {
   "cell_type": "markdown",
   "metadata": {},
   "source": [
    "Importing required modules."
   ]
  },
  {
   "cell_type": "code",
   "execution_count": 12,
   "metadata": {},
   "outputs": [],
   "source": [
    "def credentials():\n",
    "    with open(\"credentials.yaml\", \"r\") as stream:\n",
    "        try:\n",
    "            cred = yaml.safe_load(stream)\n",
    "            return cred\n",
    "        except yaml.YAMLError:\n",
    "            print(yaml.YAMLError)"
   ]
  },
  {
   "cell_type": "markdown",
   "metadata": {},
   "source": [
    "Defining \"credentials\" function which returns the credentials from the \"credentials.yaml\" files."
   ]
  },
  {
   "cell_type": "code",
   "execution_count": 22,
   "metadata": {},
   "outputs": [],
   "source": [
    "class RDSDatabaseConnector:\n",
    "    \"\"\"\n",
    "    Extracts the remote database to a csv on the local machine.\n",
    "\n",
    "    Parameters:\n",
    "    ----------\n",
    "    cred: dictionary\n",
    "        These are the database credentials obtained from the credentials.yaml file.\n",
    "        They have been converted to a dictionary by a previous function in this file.\n",
    "\n",
    "    Attributes:\n",
    "    ----------\n",
    "    cred: dictionary\n",
    "        Check Parameters section.\n",
    "    engine: engine\n",
    "        Database obtained from the SQLAlchemy method below.\n",
    "    loan_payments: pd.DataFrame\n",
    "        Pandas dataframe obtained from the extract_data method below.\n",
    "\n",
    "    Methods:\n",
    "    ----------\n",
    "    SQLAlchemy(cred)\n",
    "        Imports the RDS database using the credentials. Returns \"engine\".\n",
    "    extract_data(engine)\n",
    "         Converts the database to a pandas data frame. Returns the data frame \"loan_payments\".\n",
    "    save_csv(loan_payments)\n",
    "        Saves the previously obtained data frame to the current directory as a csv file.\n",
    "    \"\"\"\n",
    "\n",
    "    # Class constructor\n",
    "    def __init__(self, cred):\n",
    "        self.cred = cred\n",
    "        \n",
    "    # Methods\n",
    "    def SQLAlchemy(self, cred):\n",
    "        engine = create_engine(f\"postgresql+psycopg2://{self.cred['RDS_USER']}:{self.cred['RDS_PASSWORD']}@{self.cred['RDS_HOST']}:{self.cred['RDS_PORT']}/{self.cred['RDS_DATABASE']}\")\n",
    "        return engine\n",
    "    \n",
    "    def extract_data(self, engine):\n",
    "        sql_query = pd.read_sql_table(\"loan_payments\", engine)\n",
    "        loan_payments = pd.DataFrame(sql_query)\n",
    "        return loan_payments\n",
    "\n",
    "    def save_csv(self, loan_payments):\n",
    "        return loan_payments.to_csv(\"loan_payments.csv\")"
   ]
  },
  {
   "cell_type": "markdown",
   "metadata": {},
   "source": [
    "Initialises a new class which extracts the data from a RDS database to a csv file on the local machine. The class contains 3 methods.\n",
    "\"SQLAlchemy\" - creates an engine which connects to the remote RDS database using the credentials from the YAML file.\n",
    "\"extract_data\" - extracts the required data from the database\n",
    "\"save_csv\" - saves the previously extracted data as a csv file on the local machine"
   ]
  },
  {
   "cell_type": "code",
   "execution_count": 23,
   "metadata": {},
   "outputs": [],
   "source": [
    "def csv_to_df():\n",
    "    with open(\"loan_payments.csv\", \"r\") as payments:\n",
    "        payments_df = pd.read_csv(payments)\n",
    "        return payments_df"
   ]
  },
  {
   "cell_type": "markdown",
   "metadata": {},
   "source": [
    "This function imports the contents of the previously saved csv file as a pandas data frame."
   ]
  },
  {
   "cell_type": "markdown",
   "metadata": {},
   "source": []
  }
 ],
 "metadata": {
  "kernelspec": {
   "display_name": "Python 3",
   "language": "python",
   "name": "python3"
  },
  "language_info": {
   "codemirror_mode": {
    "name": "ipython",
    "version": 3
   },
   "file_extension": ".py",
   "mimetype": "text/x-python",
   "name": "python",
   "nbconvert_exporter": "python",
   "pygments_lexer": "ipython3",
   "version": "3.11.4"
  }
 },
 "nbformat": 4,
 "nbformat_minor": 2
}
